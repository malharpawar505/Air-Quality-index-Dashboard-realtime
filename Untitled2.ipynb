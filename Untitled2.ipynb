{
 "cells": [
  {
   "cell_type": "code",
   "execution_count": 3,
   "id": "aa30cffb",
   "metadata": {},
   "outputs": [
    {
     "ename": "FileNotFoundError",
     "evalue": "[Errno 2] No such file or directory: 'air_quality_index.csv'",
     "output_type": "error",
     "traceback": [
      "\u001b[1;31m---------------------------------------------------------------------------\u001b[0m",
      "\u001b[1;31mFileNotFoundError\u001b[0m                         Traceback (most recent call last)",
      "Cell \u001b[1;32mIn[3], line 10\u001b[0m\n\u001b[0;32m      4\u001b[0m producer \u001b[38;5;241m=\u001b[39m KafkaProducer(\n\u001b[0;32m      5\u001b[0m     bootstrap_servers\u001b[38;5;241m=\u001b[39m\u001b[38;5;124m'\u001b[39m\u001b[38;5;124mlocalhost:9092\u001b[39m\u001b[38;5;124m'\u001b[39m,\n\u001b[0;32m      6\u001b[0m     value_serializer\u001b[38;5;241m=\u001b[39m\u001b[38;5;28;01mlambda\u001b[39;00m v: \u001b[38;5;28mstr\u001b[39m(v)\u001b[38;5;241m.\u001b[39mencode(\u001b[38;5;124m'\u001b[39m\u001b[38;5;124mutf-8\u001b[39m\u001b[38;5;124m'\u001b[39m)\n\u001b[0;32m      7\u001b[0m )\n\u001b[0;32m      9\u001b[0m \u001b[38;5;66;03m# Read historical data from a file\u001b[39;00m\n\u001b[1;32m---> 10\u001b[0m \u001b[38;5;28;01mwith\u001b[39;00m \u001b[38;5;28mopen\u001b[39m(\u001b[38;5;124m'\u001b[39m\u001b[38;5;124mair_quality_index.csv\u001b[39m\u001b[38;5;124m'\u001b[39m, \u001b[38;5;124m'\u001b[39m\u001b[38;5;124mr\u001b[39m\u001b[38;5;124m'\u001b[39m) \u001b[38;5;28;01mas\u001b[39;00m file:\n\u001b[0;32m     11\u001b[0m     historical_data \u001b[38;5;241m=\u001b[39m file\u001b[38;5;241m.\u001b[39mreadlines()\n\u001b[0;32m     13\u001b[0m \u001b[38;5;66;03m# Simulate real-time streaming\u001b[39;00m\n",
      "File \u001b[1;32m~\\anaconda3\\Lib\\site-packages\\IPython\\core\\interactiveshell.py:286\u001b[0m, in \u001b[0;36m_modified_open\u001b[1;34m(file, *args, **kwargs)\u001b[0m\n\u001b[0;32m    279\u001b[0m \u001b[38;5;28;01mif\u001b[39;00m file \u001b[38;5;129;01min\u001b[39;00m {\u001b[38;5;241m0\u001b[39m, \u001b[38;5;241m1\u001b[39m, \u001b[38;5;241m2\u001b[39m}:\n\u001b[0;32m    280\u001b[0m     \u001b[38;5;28;01mraise\u001b[39;00m \u001b[38;5;167;01mValueError\u001b[39;00m(\n\u001b[0;32m    281\u001b[0m         \u001b[38;5;124mf\u001b[39m\u001b[38;5;124m\"\u001b[39m\u001b[38;5;124mIPython won\u001b[39m\u001b[38;5;124m'\u001b[39m\u001b[38;5;124mt let you open fd=\u001b[39m\u001b[38;5;132;01m{\u001b[39;00mfile\u001b[38;5;132;01m}\u001b[39;00m\u001b[38;5;124m by default \u001b[39m\u001b[38;5;124m\"\u001b[39m\n\u001b[0;32m    282\u001b[0m         \u001b[38;5;124m\"\u001b[39m\u001b[38;5;124mas it is likely to crash IPython. If you know what you are doing, \u001b[39m\u001b[38;5;124m\"\u001b[39m\n\u001b[0;32m    283\u001b[0m         \u001b[38;5;124m\"\u001b[39m\u001b[38;5;124myou can use builtins\u001b[39m\u001b[38;5;124m'\u001b[39m\u001b[38;5;124m open.\u001b[39m\u001b[38;5;124m\"\u001b[39m\n\u001b[0;32m    284\u001b[0m     )\n\u001b[1;32m--> 286\u001b[0m \u001b[38;5;28;01mreturn\u001b[39;00m io_open(file, \u001b[38;5;241m*\u001b[39margs, \u001b[38;5;241m*\u001b[39m\u001b[38;5;241m*\u001b[39mkwargs)\n",
      "\u001b[1;31mFileNotFoundError\u001b[0m: [Errno 2] No such file or directory: 'air_quality_index.csv'"
     ]
    }
   ],
   "source": [
    "from kafka import KafkaProducer\n",
    "import time\n",
    "\n",
    "producer = KafkaProducer(\n",
    "    bootstrap_servers='localhost:9092',\n",
    "    value_serializer=lambda v: str(v).encode('utf-8')\n",
    ")\n",
    "\n",
    "# Read historical data from a file\n",
    "with open('air_quality_index.csv', 'r') as file:\n",
    "    historical_data = file.readlines()\n",
    "\n",
    "# Simulate real-time streaming\n",
    "for data_point in historical_data:\n",
    "    producer.send('air-index', value=data_point)\n",
    "    time.sleep(15)  # Adjust the sleep time based on your requirements\n",
    "\n",
    "producer.close()\n"
   ]
  },
  {
   "cell_type": "code",
   "execution_count": 2,
   "id": "8bbbde70",
   "metadata": {},
   "outputs": [
    {
     "name": "stdout",
     "output_type": "stream",
     "text": [
      "Collecting kafka-python\n",
      "  Downloading kafka_python-2.0.2-py2.py3-none-any.whl (246 kB)\n",
      "     ---------------------------------------- 0.0/246.5 kB ? eta -:--:--\n",
      "     ---- -------------------------------- 30.7/246.5 kB 660.6 kB/s eta 0:00:01\n",
      "     ---- -------------------------------- 30.7/246.5 kB 660.6 kB/s eta 0:00:01\n",
      "     ------ ------------------------------ 41.0/246.5 kB 245.8 kB/s eta 0:00:01\n",
      "     ------------- ----------------------- 92.2/246.5 kB 479.1 kB/s eta 0:00:01\n",
      "     ------------- ----------------------- 92.2/246.5 kB 479.1 kB/s eta 0:00:01\n",
      "     ----------------- ------------------ 122.9/246.5 kB 400.9 kB/s eta 0:00:01\n",
      "     -------------------- --------------- 143.4/246.5 kB 449.7 kB/s eta 0:00:01\n",
      "     ----------------------- ------------ 163.8/246.5 kB 447.8 kB/s eta 0:00:01\n",
      "     ----------------------------- ------ 204.8/246.5 kB 462.1 kB/s eta 0:00:01\n",
      "     ----------------------------- ------ 204.8/246.5 kB 462.1 kB/s eta 0:00:01\n",
      "     ------------------------------------ 246.5/246.5 kB 472.5 kB/s eta 0:00:00\n",
      "Installing collected packages: kafka-python\n",
      "Successfully installed kafka-python-2.0.2\n",
      "Note: you may need to restart the kernel to use updated packages.\n"
     ]
    }
   ],
   "source": [
    "pip install kafka-python\n"
   ]
  },
  {
   "cell_type": "code",
   "execution_count": null,
   "id": "cd2af9c0",
   "metadata": {
    "scrolled": true
   },
   "outputs": [],
   "source": [
    "from kafka import KafkaProducer\n",
    "import time\n",
    "\n",
    "producer = KafkaProducer(\n",
    "    bootstrap_servers='localhost:9092',\n",
    "    value_serializer=lambda v: str(v).encode('utf-8')\n",
    ")\n",
    "\n",
    "# Read historical data from a file\n",
    "with open('air_quality_index.csv', 'r') as file:\n",
    "    historical_data = file.readlines()\n",
    "\n",
    "# Simulate real-time streaming\n",
    "for data_point in historical_data:\n",
    "    producer.send('air-index', value=data_point)\n",
    "    time.sleep(15)  # Adjust the sleep time based on your requirements\n",
    "\n",
    "producer.close()\n"
   ]
  },
  {
   "cell_type": "code",
   "execution_count": null,
   "id": "77f8c854",
   "metadata": {},
   "outputs": [],
   "source": [
    "import findspark\n",
    "findspark.init('C:\\SPARK\\spark-3.5.0-bin-hadoop3\\spark-3.5.0')  # Provide the path to your Spark installation\n"
   ]
  },
  {
   "cell_type": "code",
   "execution_count": null,
   "id": "38831834",
   "metadata": {},
   "outputs": [],
   "source": [
    "from pyspark.sql import SparkSession\n",
    "from pyspark.streaming import StreamingContext\n",
    "from pyspark.streaming.kafka import KafkaUtils\n"
   ]
  },
  {
   "cell_type": "code",
   "execution_count": null,
   "id": "f4203797",
   "metadata": {},
   "outputs": [],
   "source": [
    "# Start Spark session\n",
    "spark = SparkSession.builder.appName('KafkaSparkStreaming').getOrCreate()\n",
    "\n",
    "# Create StreamingContext with 1 second batch interval\n",
    "ssc = StreamingContext(spark.sparkContext, 1)\n",
    "kafka_params = {'bootstrap.servers': 'localhost:9092', 'group.id': 'your_group'}\n",
    "\n",
    "# Create a DStream that represents streaming data from Kafka\n",
    "kafka_stream = KafkaUtils.createDirectStream(ssc, ['air-index'], kafka_params)\n",
    "\n",
    "# Process the streaming data\n",
    "processed_stream = kafka_stream.map(lambda x: process_data(x[1]))\n",
    "\n",
    "# Print the processed data (replace this with your processing logic)\n",
    "# Process the streaming data\n",
    "def process_data(data):\n",
    "    # Example: Split the data by a delimiter (assuming CSV format)\n",
    "    data_parts = data.split(',')\n",
    "    \n",
    "    # Example: Extract relevant information (adjust based on your data)\n",
    "    timestamp = data_parts[0]\n",
    "    value = float(data_parts[1])  # Assuming the value is a floating-point number\n",
    "\n",
    "    # Example: Perform some processing (replace with your logic)\n",
    "    processed_value = value * 2\n",
    "\n",
    "    # Return processed data\n",
    "    return f'Timestamp: {timestamp}, Processed Value: {processed_value}'\n",
    "\n",
    "# Print the processed data\n",
    "processed_stream.pprint()\n",
    "\n",
    "\n",
    "ssc.start()\n",
    "ssc.awaitTermination()\n"
   ]
  },
  {
   "cell_type": "code",
   "execution_count": null,
   "id": "a42671ba",
   "metadata": {},
   "outputs": [],
   "source": []
  }
 ],
 "metadata": {
  "kernelspec": {
   "display_name": "Python 3 (ipykernel)",
   "language": "python",
   "name": "python3"
  },
  "language_info": {
   "codemirror_mode": {
    "name": "ipython",
    "version": 3
   },
   "file_extension": ".py",
   "mimetype": "text/x-python",
   "name": "python",
   "nbconvert_exporter": "python",
   "pygments_lexer": "ipython3",
   "version": "3.11.5"
  }
 },
 "nbformat": 4,
 "nbformat_minor": 5
}
