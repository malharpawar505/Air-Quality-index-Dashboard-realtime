{
 "cells": [
  {
   "cell_type": "code",
   "execution_count": 3,
   "id": "6f03f083",
   "metadata": {},
   "outputs": [
    {
     "name": "stdout",
     "output_type": "stream",
     "text": [
      "Collecting confluent_kafka\n",
      "  Obtaining dependency information for confluent_kafka from https://files.pythonhosted.org/packages/fc/6c/f064ee299604127ca83fdb31bd31c8864ea420fca012405837500f6d4420/confluent_kafka-2.3.0-cp311-cp311-win_amd64.whl.metadata\n",
      "  Downloading confluent_kafka-2.3.0-cp311-cp311-win_amd64.whl.metadata (2.4 kB)\n",
      "Downloading confluent_kafka-2.3.0-cp311-cp311-win_amd64.whl (3.4 MB)\n",
      "   ---------------------------------------- 0.0/3.4 MB ? eta -:--:--\n",
      "   ---------------------------------------- 0.0/3.4 MB 1.4 MB/s eta 0:00:03\n",
      "   -- ------------------------------------- 0.2/3.4 MB 3.5 MB/s eta 0:00:01\n",
      "   ------ --------------------------------- 0.5/3.4 MB 4.8 MB/s eta 0:00:01\n",
      "   -------- ------------------------------- 0.7/3.4 MB 4.6 MB/s eta 0:00:01\n",
      "   ---------- ----------------------------- 0.9/3.4 MB 4.5 MB/s eta 0:00:01\n",
      "   ------------- -------------------------- 1.1/3.4 MB 4.5 MB/s eta 0:00:01\n",
      "   --------------- ------------------------ 1.3/3.4 MB 4.5 MB/s eta 0:00:01\n",
      "   ----------------- ---------------------- 1.5/3.4 MB 4.3 MB/s eta 0:00:01\n",
      "   ------------------- -------------------- 1.7/3.4 MB 4.3 MB/s eta 0:00:01\n",
      "   --------------------- ------------------ 1.9/3.4 MB 4.3 MB/s eta 0:00:01\n",
      "   ------------------------ --------------- 2.1/3.4 MB 4.3 MB/s eta 0:00:01\n",
      "   -------------------------- ------------- 2.3/3.4 MB 4.2 MB/s eta 0:00:01\n",
      "   ---------------------------- ----------- 2.5/3.4 MB 4.3 MB/s eta 0:00:01\n",
      "   ------------------------------- -------- 2.7/3.4 MB 4.3 MB/s eta 0:00:01\n",
      "   ---------------------------------- ----- 2.9/3.4 MB 4.3 MB/s eta 0:00:01\n",
      "   ----------------------------------- ---- 3.1/3.4 MB 4.3 MB/s eta 0:00:01\n",
      "   ------------------------------------- -- 3.3/3.4 MB 4.2 MB/s eta 0:00:01\n",
      "   ---------------------------------------  3.4/3.4 MB 4.2 MB/s eta 0:00:01\n",
      "   ---------------------------------------- 3.4/3.4 MB 4.1 MB/s eta 0:00:00\n",
      "Installing collected packages: confluent_kafka\n",
      "Successfully installed confluent_kafka-2.3.0\n",
      "Note: you may need to restart the kernel to use updated packages.\n"
     ]
    }
   ],
   "source": [
    "pip install confluent_kafka"
   ]
  },
  {
   "cell_type": "code",
   "execution_count": 5,
   "id": "e086fd5c",
   "metadata": {
    "scrolled": true
   },
   "outputs": [
    {
     "ename": "AnalysisException",
     "evalue": "[UNRESOLVED_COLUMN.WITH_SUGGESTION] A column or function parameter with name `original_timestamp` cannot be resolved. Did you mean one of the following? [`simulated_timestamp`, `Datetime`, `StationName`, `Unnamed: 0`, `Day_period`].;\n'Project [Unnamed: 0#195, City#196, Datetime#197, PM2.5#198, PM10#199, NO#200, NO2#201, NOx#202, NH3#203, CO#204, SO2#205, O3#206, Benzene#207, Toluene#208, AQI#209, AQI_Bucket#210, StationId#211, StationName#212, State#213, Status#214, Region#215, Day_period#216, Month#217, Year#218, ... 6 more fields]\n+- Project [Unnamed: 0#195, City#196, Datetime#197, PM2.5#198, PM10#199, NO#200, NO2#201, NOx#202, NH3#203, CO#204, SO2#205, O3#206, Benzene#207, Toluene#208, AQI#209, AQI_Bucket#210, StationId#211, StationName#212, State#213, Status#214, Region#215, Day_period#216, Month#217, Year#218, ... 5 more fields]\n   +- Relation [Unnamed: 0#195,City#196,Datetime#197,PM2.5#198,PM10#199,NO#200,NO2#201,NOx#202,NH3#203,CO#204,SO2#205,O3#206,Benzene#207,Toluene#208,AQI#209,AQI_Bucket#210,StationId#211,StationName#212,State#213,Status#214,Region#215,Day_period#216,Month#217,Year#218,... 4 more fields] csv\n",
     "output_type": "error",
     "traceback": [
      "\u001b[1;31m---------------------------------------------------------------------------\u001b[0m",
      "\u001b[1;31mAnalysisException\u001b[0m                         Traceback (most recent call last)",
      "Cell \u001b[1;32mIn[5], line 11\u001b[0m\n\u001b[0;32m      8\u001b[0m data \u001b[38;5;241m=\u001b[39m spark\u001b[38;5;241m.\u001b[39mread\u001b[38;5;241m.\u001b[39mcsv(\u001b[38;5;124m\"\u001b[39m\u001b[38;5;124mair_quality_index.csv\u001b[39m\u001b[38;5;124m\"\u001b[39m, header\u001b[38;5;241m=\u001b[39m\u001b[38;5;28;01mTrue\u001b[39;00m)  \u001b[38;5;66;03m# Assuming the CSV has a header\u001b[39;00m\n\u001b[0;32m     10\u001b[0m \u001b[38;5;66;03m# Add timestamp column using current timestamp\u001b[39;00m\n\u001b[1;32m---> 11\u001b[0m data \u001b[38;5;241m=\u001b[39m data\u001b[38;5;241m.\u001b[39mwithColumn(\u001b[38;5;124m\"\u001b[39m\u001b[38;5;124msimulated_timestamp\u001b[39m\u001b[38;5;124m\"\u001b[39m, F\u001b[38;5;241m.\u001b[39mcurrent_timestamp())\u001b[38;5;241m.\u001b[39mwithColumn(\u001b[38;5;124m\"\u001b[39m\u001b[38;5;124mtimestamp\u001b[39m\u001b[38;5;124m\"\u001b[39m, F\u001b[38;5;241m.\u001b[39mcol(\u001b[38;5;124m\"\u001b[39m\u001b[38;5;124moriginal_timestamp\u001b[39m\u001b[38;5;124m\"\u001b[39m))\n\u001b[0;32m     13\u001b[0m \u001b[38;5;66;03m# Define Kafka producer configuration\u001b[39;00m\n\u001b[0;32m     14\u001b[0m kafka_bootstrap_servers \u001b[38;5;241m=\u001b[39m \u001b[38;5;124m'\u001b[39m\u001b[38;5;124myour_kafka_bootstrap_servers\u001b[39m\u001b[38;5;124m'\u001b[39m  \u001b[38;5;66;03m# Replace with your Kafka bootstrap servers\u001b[39;00m\n",
      "File \u001b[1;32m~\\anaconda3\\Lib\\site-packages\\pyspark\\sql\\dataframe.py:5170\u001b[0m, in \u001b[0;36mDataFrame.withColumn\u001b[1;34m(self, colName, col)\u001b[0m\n\u001b[0;32m   5165\u001b[0m \u001b[38;5;28;01mif\u001b[39;00m \u001b[38;5;129;01mnot\u001b[39;00m \u001b[38;5;28misinstance\u001b[39m(col, Column):\n\u001b[0;32m   5166\u001b[0m     \u001b[38;5;28;01mraise\u001b[39;00m PySparkTypeError(\n\u001b[0;32m   5167\u001b[0m         error_class\u001b[38;5;241m=\u001b[39m\u001b[38;5;124m\"\u001b[39m\u001b[38;5;124mNOT_COLUMN\u001b[39m\u001b[38;5;124m\"\u001b[39m,\n\u001b[0;32m   5168\u001b[0m         message_parameters\u001b[38;5;241m=\u001b[39m{\u001b[38;5;124m\"\u001b[39m\u001b[38;5;124marg_name\u001b[39m\u001b[38;5;124m\"\u001b[39m: \u001b[38;5;124m\"\u001b[39m\u001b[38;5;124mcol\u001b[39m\u001b[38;5;124m\"\u001b[39m, \u001b[38;5;124m\"\u001b[39m\u001b[38;5;124marg_type\u001b[39m\u001b[38;5;124m\"\u001b[39m: \u001b[38;5;28mtype\u001b[39m(col)\u001b[38;5;241m.\u001b[39m\u001b[38;5;18m__name__\u001b[39m},\n\u001b[0;32m   5169\u001b[0m     )\n\u001b[1;32m-> 5170\u001b[0m \u001b[38;5;28;01mreturn\u001b[39;00m DataFrame(\u001b[38;5;28mself\u001b[39m\u001b[38;5;241m.\u001b[39m_jdf\u001b[38;5;241m.\u001b[39mwithColumn(colName, col\u001b[38;5;241m.\u001b[39m_jc), \u001b[38;5;28mself\u001b[39m\u001b[38;5;241m.\u001b[39msparkSession)\n",
      "File \u001b[1;32m~\\anaconda3\\Lib\\site-packages\\py4j\\java_gateway.py:1322\u001b[0m, in \u001b[0;36mJavaMember.__call__\u001b[1;34m(self, *args)\u001b[0m\n\u001b[0;32m   1316\u001b[0m command \u001b[38;5;241m=\u001b[39m proto\u001b[38;5;241m.\u001b[39mCALL_COMMAND_NAME \u001b[38;5;241m+\u001b[39m\\\n\u001b[0;32m   1317\u001b[0m     \u001b[38;5;28mself\u001b[39m\u001b[38;5;241m.\u001b[39mcommand_header \u001b[38;5;241m+\u001b[39m\\\n\u001b[0;32m   1318\u001b[0m     args_command \u001b[38;5;241m+\u001b[39m\\\n\u001b[0;32m   1319\u001b[0m     proto\u001b[38;5;241m.\u001b[39mEND_COMMAND_PART\n\u001b[0;32m   1321\u001b[0m answer \u001b[38;5;241m=\u001b[39m \u001b[38;5;28mself\u001b[39m\u001b[38;5;241m.\u001b[39mgateway_client\u001b[38;5;241m.\u001b[39msend_command(command)\n\u001b[1;32m-> 1322\u001b[0m return_value \u001b[38;5;241m=\u001b[39m get_return_value(\n\u001b[0;32m   1323\u001b[0m     answer, \u001b[38;5;28mself\u001b[39m\u001b[38;5;241m.\u001b[39mgateway_client, \u001b[38;5;28mself\u001b[39m\u001b[38;5;241m.\u001b[39mtarget_id, \u001b[38;5;28mself\u001b[39m\u001b[38;5;241m.\u001b[39mname)\n\u001b[0;32m   1325\u001b[0m \u001b[38;5;28;01mfor\u001b[39;00m temp_arg \u001b[38;5;129;01min\u001b[39;00m temp_args:\n\u001b[0;32m   1326\u001b[0m     \u001b[38;5;28;01mif\u001b[39;00m \u001b[38;5;28mhasattr\u001b[39m(temp_arg, \u001b[38;5;124m\"\u001b[39m\u001b[38;5;124m_detach\u001b[39m\u001b[38;5;124m\"\u001b[39m):\n",
      "File \u001b[1;32m~\\anaconda3\\Lib\\site-packages\\pyspark\\errors\\exceptions\\captured.py:185\u001b[0m, in \u001b[0;36mcapture_sql_exception.<locals>.deco\u001b[1;34m(*a, **kw)\u001b[0m\n\u001b[0;32m    181\u001b[0m converted \u001b[38;5;241m=\u001b[39m convert_exception(e\u001b[38;5;241m.\u001b[39mjava_exception)\n\u001b[0;32m    182\u001b[0m \u001b[38;5;28;01mif\u001b[39;00m \u001b[38;5;129;01mnot\u001b[39;00m \u001b[38;5;28misinstance\u001b[39m(converted, UnknownException):\n\u001b[0;32m    183\u001b[0m     \u001b[38;5;66;03m# Hide where the exception came from that shows a non-Pythonic\u001b[39;00m\n\u001b[0;32m    184\u001b[0m     \u001b[38;5;66;03m# JVM exception message.\u001b[39;00m\n\u001b[1;32m--> 185\u001b[0m     \u001b[38;5;28;01mraise\u001b[39;00m converted \u001b[38;5;28;01mfrom\u001b[39;00m \u001b[38;5;28;01mNone\u001b[39;00m\n\u001b[0;32m    186\u001b[0m \u001b[38;5;28;01melse\u001b[39;00m:\n\u001b[0;32m    187\u001b[0m     \u001b[38;5;28;01mraise\u001b[39;00m\n",
      "\u001b[1;31mAnalysisException\u001b[0m: [UNRESOLVED_COLUMN.WITH_SUGGESTION] A column or function parameter with name `original_timestamp` cannot be resolved. Did you mean one of the following? [`simulated_timestamp`, `Datetime`, `StationName`, `Unnamed: 0`, `Day_period`].;\n'Project [Unnamed: 0#195, City#196, Datetime#197, PM2.5#198, PM10#199, NO#200, NO2#201, NOx#202, NH3#203, CO#204, SO2#205, O3#206, Benzene#207, Toluene#208, AQI#209, AQI_Bucket#210, StationId#211, StationName#212, State#213, Status#214, Region#215, Day_period#216, Month#217, Year#218, ... 6 more fields]\n+- Project [Unnamed: 0#195, City#196, Datetime#197, PM2.5#198, PM10#199, NO#200, NO2#201, NOx#202, NH3#203, CO#204, SO2#205, O3#206, Benzene#207, Toluene#208, AQI#209, AQI_Bucket#210, StationId#211, StationName#212, State#213, Status#214, Region#215, Day_period#216, Month#217, Year#218, ... 5 more fields]\n   +- Relation [Unnamed: 0#195,City#196,Datetime#197,PM2.5#198,PM10#199,NO#200,NO2#201,NOx#202,NH3#203,CO#204,SO2#205,O3#206,Benzene#207,Toluene#208,AQI#209,AQI_Bucket#210,StationId#211,StationName#212,State#213,Status#214,Region#215,Day_period#216,Month#217,Year#218,... 4 more fields] csv\n"
     ]
    }
   ],
   "source": [
    "from pyspark.sql import SparkSession, functions as F\n",
    "import json\n",
    "\n",
    "# Create a Spark session\n",
    "spark = SparkSession.builder.appName(\"DataSimulator\").getOrCreate()\n",
    "\n",
    "# Read CSV data\n",
    "data = spark.read.csv(\"air_quality_index.csv\", header=True)  # Assuming the CSV has a header\n",
    "\n",
    "# Add timestamp column using current timestamp\n",
    "data = data.withColumn(\"simulated_timestamp\", F.current_timestamp()).withColumn(\"timestamp\", F.col(\"original_timestamp\"))\n",
    "\n",
    "# Define Kafka producer configuration\n",
    "kafka_bootstrap_servers = 'your_kafka_bootstrap_servers'  # Replace with your Kafka bootstrap servers\n",
    "kafka_topic = 'air-quality'\n",
    "\n",
    "# Function to send data to Kafka\n",
    "def send_to_kafka(row):\n",
    "    producer = Producer({'bootstrap.servers': kafka_bootstrap_servers})\n",
    "    message = {\n",
    "        \"simulated_timestamp\": row[\"simulated_timestamp\"],\n",
    "        \"timestamp\": row[\"timestamp\"],\n",
    "        \"pm2.5\": row[\"PM2.5\"]\n",
    "        # Add other columns as needed\n",
    "    }\n",
    "    producer.produce(kafka_topic, key=None, value=json.dumps(message))\n",
    "    producer.flush()\n",
    "    producer.close()\n",
    "\n",
    "# Send data to Kafka with simulated delay (adjust as needed)\n",
    "data.select(\"simulated_timestamp\", \"timestamp\", \"PM2.5\").foreach(send_to_kafka)\n",
    "\n",
    "# Stop Spark\n",
    "spark.stop()\n"
   ]
  },
  {
   "cell_type": "code",
   "execution_count": null,
   "id": "cc92359e",
   "metadata": {},
   "outputs": [],
   "source": []
  }
 ],
 "metadata": {
  "kernelspec": {
   "display_name": "Python 3 (ipykernel)",
   "language": "python",
   "name": "python3"
  },
  "language_info": {
   "codemirror_mode": {
    "name": "ipython",
    "version": 3
   },
   "file_extension": ".py",
   "mimetype": "text/x-python",
   "name": "python",
   "nbconvert_exporter": "python",
   "pygments_lexer": "ipython3",
   "version": "3.11.5"
  }
 },
 "nbformat": 4,
 "nbformat_minor": 5
}
